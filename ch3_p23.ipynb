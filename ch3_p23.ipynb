{
  "nbformat": 4,
  "nbformat_minor": 0,
  "metadata": {
    "colab": {
      "provenance": [],
      "authorship_tag": "ABX9TyOJsB+7Urpfs6vGae940001",
      "include_colab_link": true
    },
    "kernelspec": {
      "name": "python3",
      "display_name": "Python 3"
    },
    "language_info": {
      "name": "python"
    }
  },
  "cells": [
    {
      "cell_type": "markdown",
      "metadata": {
        "id": "view-in-github",
        "colab_type": "text"
      },
      "source": [
        "<a href=\"https://colab.research.google.com/github/ramirezramiro/linear-reg/blob/main/ch3_p23.ipynb\" target=\"_parent\"><img src=\"https://colab.research.google.com/assets/colab-badge.svg\" alt=\"Open In Colab\"/></a>"
      ]
    },
    {
      "cell_type": "code",
      "execution_count": 5,
      "metadata": {
        "colab": {
          "base_uri": "https://localhost:8080/"
        },
        "id": "UnKY55Azxrfr",
        "outputId": "b9d1347b-9f3c-4720-a0ae-4f7adbd63cec"
      },
      "outputs": [
        {
          "output_type": "stream",
          "name": "stdout",
          "text": [
            "F-statistic:  207.00000000000006\n",
            "Critical Value:  4.279344309144648 \n",
            "\n",
            "The model is significant at the alpha=0.05 level.\n",
            "\n",
            "Minimum R-squared: 0.05926047022225626\n"
          ]
        }
      ],
      "source": [
        "import numpy as np\n",
        "from scipy.stats import f\n",
        "\n",
        "n = 25 # number of samples\n",
        "k = 2  # number of regressors\n",
        "R_sq = 0.90 # R-squared value\n",
        "\n",
        "# Calculate the F-statistic\n",
        "F = (R_sq / (k-1)) / ((1-R_sq) / (n-k))\n",
        "print(\"F-statistic: \", F)\n",
        "\n",
        "# Calculate the critical value for alpha = 0.05\n",
        "alpha = 0.05\n",
        "dfn = k-1\n",
        "dfd = n-k\n",
        "crit_val = f.ppf(1-alpha, dfn, dfd)\n",
        "print(\"Critical Value: \", crit_val,\"\\n\")\n",
        "\n",
        "# Test for significance\n",
        "if F > crit_val:\n",
        "    print(\"The model is significant at the alpha=0.05 level.\")\n",
        "else:\n",
        "    print(\"The model is not significant at the alpha=0.05 level.\")\n",
        "\n",
        "min_R_sq = (crit_val / (n - k)) / (1 + crit_val / k)\n",
        "print(\"\\nMinimum R-squared:\", min_R_sq)"
      ]
    }
  ]
}