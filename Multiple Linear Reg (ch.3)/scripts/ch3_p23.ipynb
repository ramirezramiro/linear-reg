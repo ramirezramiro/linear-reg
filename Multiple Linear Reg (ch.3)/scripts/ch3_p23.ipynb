{
  "cells": [
    {
      "attachments": {},
      "cell_type": "markdown",
      "metadata": {
        "colab_type": "text",
        "id": "view-in-github"
      },
      "source": [
        "<a href=\"https://colab.research.google.com/github/ramirezramiro/linear-reg/blob/main/ch3_p23.ipynb\" target=\"_parent\"><img src=\"https://colab.research.google.com/assets/colab-badge.svg\" alt=\"Open In Colab\"/></a>"
      ]
    },
    {
      "cell_type": "code",
      "execution_count": 5,
      "metadata": {
        "colab": {
          "base_uri": "https://localhost:8080/"
        },
        "id": "UnKY55Azxrfr",
        "outputId": "b9d1347b-9f3c-4720-a0ae-4f7adbd63cec"
      },
      "outputs": [
        {
          "name": "stdout",
          "output_type": "stream",
          "text": [
            "F-statistic:  207.00000000000006\n",
            "Critical Value:  4.279344309144648 \n",
            "\n",
            "The model is significant at the alpha=0.05 level.\n",
            "\n",
            "Minimum R-squared: 0.05926047022225626\n"
          ]
        }
      ],
      "source": [
        "import numpy as np\n",
        "from scipy.stats import f\n",
        "\n",
        "print(\"3.23 Suppose that a linear regression model with k=2 regressors has been fit to n=25 observations and R_sq= 0.90.\")\n",
        "\n",
        "n = 25 # number of samples\n",
        "k = 2  # number of regressors\n",
        "R_sq = 0.90 # R-squared value\n",
        "\n",
        "\n",
        "print(\"\\n----------------\")\n",
        "print(\"a. Test for significance of regression at α=0.05. Use the results of the previous problem.\")\n",
        "# Calculate the F-statistic\n",
        "F = (R_sq / (k-1)) / ((1-R_sq) / (n-k))\n",
        "print(\"F-statistic: \", F)\n",
        "\n",
        "# Calculate the critical value for alpha = 0.05\n",
        "alpha = 0.05\n",
        "dfn = k-1\n",
        "dfd = n-k\n",
        "crit_val = f.ppf(1-alpha, dfn, dfd)\n",
        "print(\"Critical Value: \", crit_val,\"\\n\")\n",
        "\n",
        "# Test for significance\n",
        "if F > crit_val:\n",
        "    print(\"The model is significant at the alpha=0.05 level.\")\n",
        "else:\n",
        "    print(\"The model is not significant at the alpha=0.05 level.\")\n",
        "\n",
        "print(\"\\n----------------\")\n",
        "print(\"b. What is the smallest value of R_sq that would lead to the conclusion of a significant regression if α=0.05? Are you surprised at how small this value of R_sq is?\")\n",
        "\n",
        "min_R_sq = (crit_val / (n - k)) / (1 + crit_val / k)\n",
        "print(\"\\nMinimum R-squared:\", min_R_sq)\n",
        "\n",
        "print(\"\\nIn this case the min r_sq is pretty close to the alpha value. The difference between values is an extra +\", min_R_sq-crit_val)"
      ]
    }
  ],
  "metadata": {
    "colab": {
      "authorship_tag": "ABX9TyOJsB+7Urpfs6vGae940001",
      "include_colab_link": true,
      "provenance": []
    },
    "kernelspec": {
      "display_name": "Python 3",
      "name": "python3"
    },
    "language_info": {
      "name": "python"
    }
  },
  "nbformat": 4,
  "nbformat_minor": 0
}
