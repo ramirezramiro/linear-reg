{
  "nbformat": 4,
  "nbformat_minor": 0,
  "metadata": {
    "colab": {
      "provenance": [],
      "authorship_tag": "ABX9TyOuJzSFGxavTk7a8gdU98EH"
    },
    "kernelspec": {
      "name": "python3",
      "display_name": "Python 3"
    },
    "language_info": {
      "name": "python"
    }
  },
  "cells": [
    {
      "cell_type": "code",
      "execution_count": 7,
      "metadata": {
        "colab": {
          "base_uri": "https://localhost:8080/"
        },
        "id": "UnKY55Azxrfr",
        "outputId": "435643e3-292b-4c8c-ea88-b2a494907db0"
      },
      "outputs": [
        {
          "output_type": "stream",
          "name": "stdout",
          "text": [
            "3.23 Suppose that a linear regression model with k=2 regressors has been fit to n=25 observations and R_sq= 0.90.\n",
            "\n",
            "----------------\n",
            "a. Test for significance of regression at α=0.05. Use the results of the previous problem.\n",
            "F-statistic:  207.00000000000006\n",
            "Critical Value:  4.279344309144648 \n",
            "\n",
            "The model is significant at the alpha=0.05 level.\n",
            "\n",
            "----------------\n",
            "b. What is the smallest value of R_sq that would lead to the conclusion of a significant regression if α=0.05? Are you surprised at how small this value of R_sq is?\n",
            "\n",
            "Minimum R-squared: 0.05926047022225626\n",
            "\n",
            "In this case the min r_sq is pretty close to the alpha value. The difference between values is an extra + 0.009260470222256255\n"
          ]
        }
      ],
      "source": [
        "import numpy as np\n",
        "from scipy.stats import f\n",
        "\n",
        "print(\"3.23 Suppose that a linear regression model with k=2 regressors has been fit to n=25 observations and R_sq= 0.90.\")\n",
        "\n",
        "n = 25 # number of samples\n",
        "k = 2  # number of regressors\n",
        "R_sq = 0.90 # R-squared value\n",
        "\n",
        "\n",
        "print(\"\\n----------------\")\n",
        "print(\"a. Test for significance of regression at α=0.05. Use the results of the previous problem.\")\n",
        "# Calculate the F-statistic\n",
        "F = (R_sq / (k-1)) / ((1-R_sq) / (n-k))\n",
        "print(\"F-statistic: \", F)\n",
        "\n",
        "# Calculate the critical value for alpha = 0.05\n",
        "alpha = 0.05\n",
        "dfn = k-1\n",
        "dfd = n-k\n",
        "crit_val = f.ppf(1-alpha, dfn, dfd)\n",
        "print(\"Critical Value: \", crit_val,\"\\n\")\n",
        "\n",
        "# Test for significance\n",
        "if F > crit_val:\n",
        "    print(\"The model is significant at the alpha=0.05 level.\")\n",
        "else:\n",
        "    print(\"The model is not significant at the alpha=0.05 level.\")\n",
        "\n",
        "print(\"\\n----------------\")\n",
        "print(\"b. What is the smallest value of R_sq that would lead to the conclusion of a significant regression if α=0.05? Are you surprised at how small this value of R_sq is?\")\n",
        "\n",
        "min_R_sq = (crit_val / (n - k)) / (1 + crit_val / k)\n",
        "print(\"\\nMinimum R-squared:\", min_R_sq)\n",
        "\n",
        "print(\"\\nIn this case the min r_sq is pretty close to the alpha value. The difference between values is an extra +\", min_R_sq-alpha)"
      ]
    }
  ]
}